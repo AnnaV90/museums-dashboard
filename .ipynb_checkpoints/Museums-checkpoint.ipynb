{
 "cells": [
  {
   "cell_type": "code",
   "execution_count": null,
   "id": "34cadc37",
   "metadata": {},
   "outputs": [],
   "source": []
  },
  {
   "cell_type": "code",
   "execution_count": 19,
   "id": "3c831b03",
   "metadata": {},
   "outputs": [
    {
     "name": "stdout",
     "output_type": "stream",
     "text": [
      "Collecting wikipedia\n",
      "  Downloading wikipedia-1.4.0.tar.gz (27 kB)\n",
      "  Preparing metadata (setup.py) ... \u001b[?25ldone\n",
      "\u001b[?25hRequirement already satisfied: beautifulsoup4 in /Users/annavaugrante/.pyenv/versions/3.8.12/envs/lewagon/lib/python3.8/site-packages (from wikipedia) (4.10.0)\n",
      "Requirement already satisfied: requests<3.0.0,>=2.0.0 in /Users/annavaugrante/.pyenv/versions/3.8.12/envs/lewagon/lib/python3.8/site-packages (from wikipedia) (2.26.0)\n",
      "Requirement already satisfied: idna<4,>=2.5 in /Users/annavaugrante/.pyenv/versions/3.8.12/envs/lewagon/lib/python3.8/site-packages (from requests<3.0.0,>=2.0.0->wikipedia) (3.2)\n",
      "Requirement already satisfied: charset-normalizer~=2.0.0 in /Users/annavaugrante/.pyenv/versions/3.8.12/envs/lewagon/lib/python3.8/site-packages (from requests<3.0.0,>=2.0.0->wikipedia) (2.0.6)\n",
      "Requirement already satisfied: certifi>=2017.4.17 in /Users/annavaugrante/.pyenv/versions/3.8.12/envs/lewagon/lib/python3.8/site-packages (from requests<3.0.0,>=2.0.0->wikipedia) (2021.5.30)\n",
      "Requirement already satisfied: urllib3<1.27,>=1.21.1 in /Users/annavaugrante/.pyenv/versions/3.8.12/envs/lewagon/lib/python3.8/site-packages (from requests<3.0.0,>=2.0.0->wikipedia) (1.26.7)\n",
      "Requirement already satisfied: soupsieve>1.2 in /Users/annavaugrante/.pyenv/versions/3.8.12/envs/lewagon/lib/python3.8/site-packages (from beautifulsoup4->wikipedia) (2.2.1)\n",
      "Building wheels for collected packages: wikipedia\n",
      "  Building wheel for wikipedia (setup.py) ... \u001b[?25ldone\n",
      "\u001b[?25h  Created wheel for wikipedia: filename=wikipedia-1.4.0-py3-none-any.whl size=11685 sha256=56c7cf685768d2d87eb1d50a09f820152d5e5c94addac4b17dfba952d0fbe905\n",
      "  Stored in directory: /Users/annavaugrante/Library/Caches/pip/wheels/07/93/05/72c05349177dca2e0ba31a33ba4f7907606f7ddef303517c6a\n",
      "Successfully built wikipedia\n",
      "Installing collected packages: wikipedia\n",
      "Successfully installed wikipedia-1.4.0\n",
      "\n",
      "\u001b[1m[\u001b[0m\u001b[34;49mnotice\u001b[0m\u001b[1;39;49m]\u001b[0m\u001b[39;49m A new release of pip available: \u001b[0m\u001b[31;49m22.2\u001b[0m\u001b[39;49m -> \u001b[0m\u001b[32;49m25.0.1\u001b[0m\n",
      "\u001b[1m[\u001b[0m\u001b[34;49mnotice\u001b[0m\u001b[1;39;49m]\u001b[0m\u001b[39;49m To update, run: \u001b[0m\u001b[32;49mpython3.8 -m pip install --upgrade pip\u001b[0m\n",
      "Note: you may need to restart the kernel to use updated packages.\n"
     ]
    }
   ],
   "source": [
    "pip install wikipedia"
   ]
  },
  {
   "cell_type": "code",
   "execution_count": 40,
   "id": "1a16dc7f",
   "metadata": {},
   "outputs": [],
   "source": [
    "import wikipedia\n",
    "import pandas as pd\n",
    "import numpy as np"
   ]
  },
  {
   "cell_type": "code",
   "execution_count": 32,
   "id": "76598049",
   "metadata": {},
   "outputs": [],
   "source": [
    "url = \"https://en.wikipedia.org/wiki/List_of_most-visited_museums#Most-visited_museums_in_2024\""
   ]
  },
  {
   "cell_type": "code",
   "execution_count": 33,
   "id": "45efd78c",
   "metadata": {},
   "outputs": [],
   "source": [
    "tables = pd.read_html(url)"
   ]
  },
  {
   "cell_type": "code",
   "execution_count": 43,
   "id": "9be3d356",
   "metadata": {},
   "outputs": [],
   "source": [
    "data = tables[0]"
   ]
  },
  {
   "cell_type": "code",
   "execution_count": 44,
   "id": "d779208c",
   "metadata": {
    "scrolled": true
   },
   "outputs": [
    {
     "data": {
      "text/html": [
       "<div>\n",
       "<style scoped>\n",
       "    .dataframe tbody tr th:only-of-type {\n",
       "        vertical-align: middle;\n",
       "    }\n",
       "\n",
       "    .dataframe tbody tr th {\n",
       "        vertical-align: top;\n",
       "    }\n",
       "\n",
       "    .dataframe thead th {\n",
       "        text-align: right;\n",
       "    }\n",
       "</style>\n",
       "<table border=\"1\" class=\"dataframe\">\n",
       "  <thead>\n",
       "    <tr style=\"text-align: right;\">\n",
       "      <th></th>\n",
       "      <th>Name</th>\n",
       "      <th>Visitors in 2024</th>\n",
       "      <th>City</th>\n",
       "      <th>Country</th>\n",
       "    </tr>\n",
       "  </thead>\n",
       "  <tbody>\n",
       "    <tr>\n",
       "      <th>0</th>\n",
       "      <td>Louvre</td>\n",
       "      <td>8,700,000 (2024)[1]</td>\n",
       "      <td>Paris</td>\n",
       "      <td>France</td>\n",
       "    </tr>\n",
       "    <tr>\n",
       "      <th>1</th>\n",
       "      <td>National Museum of China</td>\n",
       "      <td>6,956,800 (2024)[2]</td>\n",
       "      <td>Beijing</td>\n",
       "      <td>China</td>\n",
       "    </tr>\n",
       "    <tr>\n",
       "      <th>2</th>\n",
       "      <td>Vatican Museums</td>\n",
       "      <td>6,825,436 (2024)[3]</td>\n",
       "      <td>Vatican City, Rome</td>\n",
       "      <td>Vatican</td>\n",
       "    </tr>\n",
       "    <tr>\n",
       "      <th>3</th>\n",
       "      <td>British Museum</td>\n",
       "      <td>6,479,952 (2024)[4]</td>\n",
       "      <td>London</td>\n",
       "      <td>United Kingdom</td>\n",
       "    </tr>\n",
       "    <tr>\n",
       "      <th>4</th>\n",
       "      <td>Natural History Museum, South Kensington</td>\n",
       "      <td>6,301,972 (2024)[5]</td>\n",
       "      <td>London</td>\n",
       "      <td>United Kingdom</td>\n",
       "    </tr>\n",
       "    <tr>\n",
       "      <th>...</th>\n",
       "      <td>...</td>\n",
       "      <td>...</td>\n",
       "      <td>...</td>\n",
       "      <td>...</td>\n",
       "    </tr>\n",
       "    <tr>\n",
       "      <th>80</th>\n",
       "      <td>Museum of European and Mediterranean Civilisat...</td>\n",
       "      <td>1,300,000 (2023)</td>\n",
       "      <td>Marseille</td>\n",
       "      <td>France</td>\n",
       "    </tr>\n",
       "    <tr>\n",
       "      <th>81</th>\n",
       "      <td>Chinese Aviation Museum</td>\n",
       "      <td>1,292,278 (2023)[64]</td>\n",
       "      <td>Beijing</td>\n",
       "      <td>China</td>\n",
       "    </tr>\n",
       "    <tr>\n",
       "      <th>82</th>\n",
       "      <td>Scottish National Gallery</td>\n",
       "      <td>1,277,230[52]</td>\n",
       "      <td>Edinburgh</td>\n",
       "      <td>United Kingdom</td>\n",
       "    </tr>\n",
       "    <tr>\n",
       "      <th>83</th>\n",
       "      <td>Museo Reina Sofía</td>\n",
       "      <td>1,253,183[c][52]</td>\n",
       "      <td>Madrid</td>\n",
       "      <td>Spain</td>\n",
       "    </tr>\n",
       "    <tr>\n",
       "      <th>84</th>\n",
       "      <td>Galata Tower</td>\n",
       "      <td>1,250,000 (2023)[65]</td>\n",
       "      <td>Istanbul</td>\n",
       "      <td>Turkey</td>\n",
       "    </tr>\n",
       "  </tbody>\n",
       "</table>\n",
       "<p>85 rows × 4 columns</p>\n",
       "</div>"
      ],
      "text/plain": [
       "                                                 Name      Visitors in 2024  \\\n",
       "0                                              Louvre   8,700,000 (2024)[1]   \n",
       "1                            National Museum of China   6,956,800 (2024)[2]   \n",
       "2                                     Vatican Museums   6,825,436 (2024)[3]   \n",
       "3                                      British Museum   6,479,952 (2024)[4]   \n",
       "4            Natural History Museum, South Kensington   6,301,972 (2024)[5]   \n",
       "..                                                ...                   ...   \n",
       "80  Museum of European and Mediterranean Civilisat...      1,300,000 (2023)   \n",
       "81                            Chinese Aviation Museum  1,292,278 (2023)[64]   \n",
       "82                          Scottish National Gallery         1,277,230[52]   \n",
       "83                                  Museo Reina Sofía      1,253,183[c][52]   \n",
       "84                                       Galata Tower  1,250,000 (2023)[65]   \n",
       "\n",
       "                  City         Country  \n",
       "0                Paris          France  \n",
       "1              Beijing           China  \n",
       "2   Vatican City, Rome         Vatican  \n",
       "3               London  United Kingdom  \n",
       "4               London  United Kingdom  \n",
       "..                 ...             ...  \n",
       "80           Marseille          France  \n",
       "81             Beijing           China  \n",
       "82           Edinburgh  United Kingdom  \n",
       "83              Madrid           Spain  \n",
       "84            Istanbul          Turkey  \n",
       "\n",
       "[85 rows x 4 columns]"
      ]
     },
     "execution_count": 44,
     "metadata": {},
     "output_type": "execute_result"
    }
   ],
   "source": [
    "data"
   ]
  },
  {
   "cell_type": "code",
   "execution_count": null,
   "id": "4cbd358a",
   "metadata": {},
   "outputs": [],
   "source": []
  },
  {
   "cell_type": "code",
   "execution_count": null,
   "id": "1131d998",
   "metadata": {},
   "outputs": [],
   "source": []
  },
  {
   "cell_type": "code",
   "execution_count": null,
   "id": "ef755b60",
   "metadata": {},
   "outputs": [],
   "source": []
  },
  {
   "cell_type": "code",
   "execution_count": null,
   "id": "0bf34697",
   "metadata": {},
   "outputs": [],
   "source": []
  },
  {
   "cell_type": "code",
   "execution_count": null,
   "id": "aba1c996",
   "metadata": {},
   "outputs": [],
   "source": []
  },
  {
   "cell_type": "code",
   "execution_count": 50,
   "id": "7d8544b7",
   "metadata": {},
   "outputs": [],
   "source": [
    "import requests\n",
    "from bs4 import BeautifulSoup"
   ]
  },
  {
   "cell_type": "code",
   "execution_count": 51,
   "id": "378fb7a2",
   "metadata": {},
   "outputs": [],
   "source": [
    "url = \"https://en.wikipedia.org/wiki/List_of_most-visited_museums#Most-visited_museums_in_2024\""
   ]
  },
  {
   "cell_type": "code",
   "execution_count": 52,
   "id": "54d81736",
   "metadata": {},
   "outputs": [],
   "source": [
    "response = requests.get(url)\n",
    "html_content = response.text"
   ]
  },
  {
   "cell_type": "code",
   "execution_count": 54,
   "id": "0f11e419",
   "metadata": {},
   "outputs": [],
   "source": [
    "soup = BeautifulSoup(html_content, 'html.parser')"
   ]
  },
  {
   "cell_type": "code",
   "execution_count": 55,
   "id": "cb6aec72",
   "metadata": {},
   "outputs": [],
   "source": [
    "table = soup.find('table', {'class': 'wikitable'})"
   ]
  },
  {
   "cell_type": "code",
   "execution_count": 57,
   "id": "76443af2",
   "metadata": {},
   "outputs": [],
   "source": [
    "headers = []\n",
    "for th in table.find_all('th'):\n",
    "        headers.append(th.get_text(strip=True))"
   ]
  },
  {
   "cell_type": "code",
   "execution_count": 59,
   "id": "7aad9d1c",
   "metadata": {},
   "outputs": [],
   "source": [
    "data = []\n",
    "for row in table.find_all('tr')[1:]:  # Skip the header row\n",
    "    cols = row.find_all(['td', 'th']) # Get both data cells and potential row headers\n",
    "    row_data = [col.get_text(strip=True) for col in cols]\n",
    "    data.append(row_data)"
   ]
  },
  {
   "cell_type": "code",
   "execution_count": null,
   "id": "ad139191",
   "metadata": {},
   "outputs": [],
   "source": [
    "data.remove()"
   ]
  }
 ],
 "metadata": {
  "kernelspec": {
   "display_name": "Python 3 (ipykernel)",
   "language": "python",
   "name": "python3"
  },
  "language_info": {
   "codemirror_mode": {
    "name": "ipython",
    "version": 3
   },
   "file_extension": ".py",
   "mimetype": "text/x-python",
   "name": "python",
   "nbconvert_exporter": "python",
   "pygments_lexer": "ipython3",
   "version": "3.8.12"
  },
  "toc": {
   "base_numbering": 1,
   "nav_menu": {},
   "number_sections": true,
   "sideBar": true,
   "skip_h1_title": false,
   "title_cell": "Table of Contents",
   "title_sidebar": "Contents",
   "toc_cell": false,
   "toc_position": {},
   "toc_section_display": true,
   "toc_window_display": false
  }
 },
 "nbformat": 4,
 "nbformat_minor": 5
}
