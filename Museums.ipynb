{
 "cells": [
  {
   "cell_type": "code",
   "execution_count": 28,
   "id": "3c831b03",
   "metadata": {
    "scrolled": false
   },
   "outputs": [
    {
     "name": "stdout",
     "output_type": "stream",
     "text": [
      "Requirement already satisfied: wikipedia in /Users/annavaugrante/.pyenv/versions/3.8.12/envs/lewagon/lib/python3.8/site-packages (1.4.0)\n",
      "Requirement already satisfied: requests<3.0.0,>=2.0.0 in /Users/annavaugrante/.pyenv/versions/3.8.12/envs/lewagon/lib/python3.8/site-packages (from wikipedia) (2.26.0)\n",
      "Requirement already satisfied: beautifulsoup4 in /Users/annavaugrante/.pyenv/versions/3.8.12/envs/lewagon/lib/python3.8/site-packages (from wikipedia) (4.10.0)\n",
      "Requirement already satisfied: charset-normalizer~=2.0.0 in /Users/annavaugrante/.pyenv/versions/3.8.12/envs/lewagon/lib/python3.8/site-packages (from requests<3.0.0,>=2.0.0->wikipedia) (2.0.6)\n",
      "Requirement already satisfied: urllib3<1.27,>=1.21.1 in /Users/annavaugrante/.pyenv/versions/3.8.12/envs/lewagon/lib/python3.8/site-packages (from requests<3.0.0,>=2.0.0->wikipedia) (1.26.7)\n",
      "Requirement already satisfied: certifi>=2017.4.17 in /Users/annavaugrante/.pyenv/versions/3.8.12/envs/lewagon/lib/python3.8/site-packages (from requests<3.0.0,>=2.0.0->wikipedia) (2021.5.30)\n",
      "Requirement already satisfied: idna<4,>=2.5 in /Users/annavaugrante/.pyenv/versions/3.8.12/envs/lewagon/lib/python3.8/site-packages (from requests<3.0.0,>=2.0.0->wikipedia) (3.2)\n",
      "Requirement already satisfied: soupsieve>1.2 in /Users/annavaugrante/.pyenv/versions/3.8.12/envs/lewagon/lib/python3.8/site-packages (from beautifulsoup4->wikipedia) (2.2.1)\n",
      "\n",
      "\u001b[1m[\u001b[0m\u001b[34;49mnotice\u001b[0m\u001b[1;39;49m]\u001b[0m\u001b[39;49m A new release of pip available: \u001b[0m\u001b[31;49m22.2\u001b[0m\u001b[39;49m -> \u001b[0m\u001b[32;49m25.0.1\u001b[0m\n",
      "\u001b[1m[\u001b[0m\u001b[34;49mnotice\u001b[0m\u001b[1;39;49m]\u001b[0m\u001b[39;49m To update, run: \u001b[0m\u001b[32;49mpython3.8 -m pip install --upgrade pip\u001b[0m\n",
      "Note: you may need to restart the kernel to use updated packages.\n"
     ]
    }
   ],
   "source": [
    "pip install wikipedia"
   ]
  },
  {
   "cell_type": "code",
   "execution_count": 29,
   "id": "ef919064",
   "metadata": {},
   "outputs": [
    {
     "name": "stdout",
     "output_type": "stream",
     "text": [
      "Requirement already satisfied: geopy in /Users/annavaugrante/.pyenv/versions/3.8.12/envs/lewagon/lib/python3.8/site-packages (2.4.1)\n",
      "Requirement already satisfied: geographiclib<3,>=1.52 in /Users/annavaugrante/.pyenv/versions/3.8.12/envs/lewagon/lib/python3.8/site-packages (from geopy) (2.0)\n",
      "\n",
      "\u001b[1m[\u001b[0m\u001b[34;49mnotice\u001b[0m\u001b[1;39;49m]\u001b[0m\u001b[39;49m A new release of pip available: \u001b[0m\u001b[31;49m22.2\u001b[0m\u001b[39;49m -> \u001b[0m\u001b[32;49m25.0.1\u001b[0m\n",
      "\u001b[1m[\u001b[0m\u001b[34;49mnotice\u001b[0m\u001b[1;39;49m]\u001b[0m\u001b[39;49m To update, run: \u001b[0m\u001b[32;49mpython3.8 -m pip install --upgrade pip\u001b[0m\n",
      "Note: you may need to restart the kernel to use updated packages.\n"
     ]
    }
   ],
   "source": [
    "pip install geopy"
   ]
  },
  {
   "cell_type": "code",
   "execution_count": 30,
   "id": "982bde94",
   "metadata": {},
   "outputs": [
    {
     "name": "stdout",
     "output_type": "stream",
     "text": [
      "Requirement already satisfied: pycountry in /Users/annavaugrante/.pyenv/versions/3.8.12/envs/lewagon/lib/python3.8/site-packages (24.6.1)\n",
      "Requirement already satisfied: importlib-resources>5.12.0 in /Users/annavaugrante/.pyenv/versions/3.8.12/envs/lewagon/lib/python3.8/site-packages (from pycountry) (6.4.5)\n",
      "Requirement already satisfied: zipp>=3.1.0 in /Users/annavaugrante/.pyenv/versions/3.8.12/envs/lewagon/lib/python3.8/site-packages (from importlib-resources>5.12.0->pycountry) (3.6.0)\n",
      "\n",
      "\u001b[1m[\u001b[0m\u001b[34;49mnotice\u001b[0m\u001b[1;39;49m]\u001b[0m\u001b[39;49m A new release of pip available: \u001b[0m\u001b[31;49m22.2\u001b[0m\u001b[39;49m -> \u001b[0m\u001b[32;49m25.0.1\u001b[0m\n",
      "\u001b[1m[\u001b[0m\u001b[34;49mnotice\u001b[0m\u001b[1;39;49m]\u001b[0m\u001b[39;49m To update, run: \u001b[0m\u001b[32;49mpython3.8 -m pip install --upgrade pip\u001b[0m\n",
      "Note: you may need to restart the kernel to use updated packages.\n"
     ]
    }
   ],
   "source": [
    "pip install pycountry"
   ]
  },
  {
   "cell_type": "code",
   "execution_count": 31,
   "id": "fefd914d",
   "metadata": {},
   "outputs": [
    {
     "name": "stdout",
     "output_type": "stream",
     "text": [
      "Requirement already satisfied: fuzzywuzzy in /Users/annavaugrante/.pyenv/versions/3.8.12/envs/lewagon/lib/python3.8/site-packages (0.18.0)\n",
      "\n",
      "\u001b[1m[\u001b[0m\u001b[34;49mnotice\u001b[0m\u001b[1;39;49m]\u001b[0m\u001b[39;49m A new release of pip available: \u001b[0m\u001b[31;49m22.2\u001b[0m\u001b[39;49m -> \u001b[0m\u001b[32;49m25.0.1\u001b[0m\n",
      "\u001b[1m[\u001b[0m\u001b[34;49mnotice\u001b[0m\u001b[1;39;49m]\u001b[0m\u001b[39;49m To update, run: \u001b[0m\u001b[32;49mpython3.8 -m pip install --upgrade pip\u001b[0m\n",
      "Note: you may need to restart the kernel to use updated packages.\n"
     ]
    }
   ],
   "source": [
    "pip install fuzzywuzzy"
   ]
  },
  {
   "cell_type": "code",
   "execution_count": 4,
   "id": "1a16dc7f",
   "metadata": {},
   "outputs": [],
   "source": [
    "import wikipedia\n",
    "import pandas as pd\n",
    "import numpy as np\n",
    "import requests\n",
    "import time\n",
    "import pycountry\n",
    "from fuzzywuzzy import process\n",
    "from sklearn.linear_model import LinearRegression"
   ]
  },
  {
   "cell_type": "code",
   "execution_count": 5,
   "id": "f1db2837",
   "metadata": {},
   "outputs": [],
   "source": [
    "def retrieve_database(url):\n",
    "    table = pd.read_html(url)\n",
    "    df = table[0]\n",
    "    return df\n",
    "\n",
    "data = retrieve_database('https://en.wikipedia.org/wiki/List_of_most-visited_museums#Most-visited_museums_in_2024')"
   ]
  },
  {
   "cell_type": "code",
   "execution_count": 6,
   "id": "7ce93cea",
   "metadata": {},
   "outputs": [],
   "source": [
    "def clean_number(val):\n",
    "    if isinstance(val, str):\n",
    "        v = val[:9]\n",
    "        v = v.replace(',', '')\n",
    "        v = v.lower().strip()\n",
    " \n",
    "        if v.endswith((\"mil\", \"milli\", \"mill\")):\n",
    "            num = ''.join(c for c in v if c.isdigit() or c == '.')\n",
    "            return float(num) * 1_000_000\n",
    "\n",
    "        try:\n",
    "            return float(v)\n",
    "        except ValueError:\n",
    "            return None\n",
    "    return val\n",
    "\n",
    "data['Visitors in 2024'] = data['Visitors in 2024'].apply(clean_number)"
   ]
  },
  {
   "cell_type": "code",
   "execution_count": 7,
   "id": "4fd35198",
   "metadata": {},
   "outputs": [],
   "source": [
    "def clean_city_name(city):\n",
    "    return city.split(\",\")[0].strip()\n",
    "\n",
    "data['City'] = data['City'].apply(clean_city_name)"
   ]
  },
  {
   "cell_type": "code",
   "execution_count": 57,
   "id": "b6efa9b7",
   "metadata": {
    "scrolled": true
   },
   "outputs": [],
   "source": [
    "def country_to_iso2(name):\n",
    "    \n",
    "    custom_map = {\n",
    "    \"Turkey\": \"TR\",\n",
    "    \"Vatican\": \"VA\",\n",
    "    \"Russia\": \"RU\",\n",
    "    \"Iran\": \"IR\",\n",
    "    \"South Korea\": \"KR\",\n",
    "    \"North Korea\": \"KP\"}\n",
    "\n",
    "    country_names = [c.name for c in pycountry.countries]\n",
    "    \n",
    "    if pd.isna(name) or not name.strip():\n",
    "        return None\n",
    "    name = name.strip()\n",
    "\n",
    "    if name in custom_map:\n",
    "        return custom_map[name]\n",
    "    \n",
    "    try:\n",
    "        return pycountry.countries.lookup(name).alpha_2\n",
    "    except LookupError:\n",
    "        pass\n",
    "    \n",
    "    for c in pycountry.countries:\n",
    "        if hasattr(c, \"official_name\") and c.official_name.lower() == name.lower():\n",
    "            return c.alpha_2\n",
    "\n",
    "    match, score = process.extractOne(name, country_names)\n",
    "    if score >= 80:\n",
    "        try:\n",
    "            return pycountry.countries.lookup(match).alpha_2\n",
    "        except LookupError:\n",
    "            return None\n",
    "    \n",
    "    return None\n",
    "\n",
    "data[\"Country Code\"] = data[\"Country\"].apply(country_to_iso2)"
   ]
  },
  {
   "cell_type": "code",
   "execution_count": 32,
   "id": "b8ea0995",
   "metadata": {},
   "outputs": [],
   "source": [
    "USERNAME = \"anna_v\"\n",
    "\n",
    "def get_population(city, country_code=None):\n",
    "    base_url = \"http://api.geonames.org/searchJSON\"\n",
    "    params = {\n",
    "        \"q\": city,\n",
    "        \"maxRows\": 10,\n",
    "        \"username\": USERNAME\n",
    "    }\n",
    "    if country_code:\n",
    "        params[\"country\"] = country_code\n",
    "    \n",
    "    try:\n",
    "        r = requests.get(base_url, params=params, timeout=5)\n",
    "        r.raise_for_status()\n",
    "        data = r.json()\n",
    "        geonames = data.get(\"geonames\", [])\n",
    "        if geonames:\n",
    "            best_match = max(geonames, key=lambda x: x.get(\"population\", 0))\n",
    "            pop = best_match.get(\"population\")\n",
    "            return int(pop) if pop else None\n",
    "        else:\n",
    "            return None\n",
    "    except Exception as e:\n",
    "        print(f\"Error fetching {city}, {country_code}: {e}\")\n",
    "        return None\n",
    "\n",
    "populations = []\n",
    "for _, row in data.iterrows():\n",
    "    pop = get_population(row[\"City\"], row.get(\"Country Code\"))\n",
    "    populations.append(pop)\n",
    "    time.sleep(1)\n",
    "\n",
    "data[\"Population\"] = populations"
   ]
  },
  {
   "cell_type": "code",
   "execution_count": 56,
   "id": "7b3d8c77",
   "metadata": {},
   "outputs": [
    {
     "data": {
      "text/html": [
       "<div>\n",
       "<style scoped>\n",
       "    .dataframe tbody tr th:only-of-type {\n",
       "        vertical-align: middle;\n",
       "    }\n",
       "\n",
       "    .dataframe tbody tr th {\n",
       "        vertical-align: top;\n",
       "    }\n",
       "\n",
       "    .dataframe thead th {\n",
       "        text-align: right;\n",
       "    }\n",
       "</style>\n",
       "<table border=\"1\" class=\"dataframe\">\n",
       "  <thead>\n",
       "    <tr style=\"text-align: right;\">\n",
       "      <th></th>\n",
       "      <th>Name</th>\n",
       "      <th>Visitors in 2024</th>\n",
       "      <th>City</th>\n",
       "      <th>Country</th>\n",
       "      <th>Country Code</th>\n",
       "      <th>Population</th>\n",
       "    </tr>\n",
       "  </thead>\n",
       "  <tbody>\n",
       "    <tr>\n",
       "      <th>0</th>\n",
       "      <td>Louvre</td>\n",
       "      <td>8700000.0</td>\n",
       "      <td>Paris</td>\n",
       "      <td>France</td>\n",
       "      <td>FR</td>\n",
       "      <td>2138551</td>\n",
       "    </tr>\n",
       "    <tr>\n",
       "      <th>1</th>\n",
       "      <td>National Museum of China</td>\n",
       "      <td>6956800.0</td>\n",
       "      <td>Beijing</td>\n",
       "      <td>China</td>\n",
       "      <td>CN</td>\n",
       "      <td>18960744</td>\n",
       "    </tr>\n",
       "    <tr>\n",
       "      <th>2</th>\n",
       "      <td>Vatican Museums</td>\n",
       "      <td>6825436.0</td>\n",
       "      <td>Vatican City</td>\n",
       "      <td>Vatican</td>\n",
       "      <td>VA</td>\n",
       "      <td>921</td>\n",
       "    </tr>\n",
       "    <tr>\n",
       "      <th>3</th>\n",
       "      <td>British Museum</td>\n",
       "      <td>6479952.0</td>\n",
       "      <td>London</td>\n",
       "      <td>United Kingdom</td>\n",
       "      <td>GB</td>\n",
       "      <td>8961989</td>\n",
       "    </tr>\n",
       "    <tr>\n",
       "      <th>4</th>\n",
       "      <td>Natural History Museum, South Kensington</td>\n",
       "      <td>6301972.0</td>\n",
       "      <td>London</td>\n",
       "      <td>United Kingdom</td>\n",
       "      <td>GB</td>\n",
       "      <td>8961989</td>\n",
       "    </tr>\n",
       "    <tr>\n",
       "      <th>...</th>\n",
       "      <td>...</td>\n",
       "      <td>...</td>\n",
       "      <td>...</td>\n",
       "      <td>...</td>\n",
       "      <td>...</td>\n",
       "      <td>...</td>\n",
       "    </tr>\n",
       "    <tr>\n",
       "      <th>80</th>\n",
       "      <td>Museum of European and Mediterranean Civilisat...</td>\n",
       "      <td>1300000.0</td>\n",
       "      <td>Marseille</td>\n",
       "      <td>France</td>\n",
       "      <td>FR</td>\n",
       "      <td>870731</td>\n",
       "    </tr>\n",
       "    <tr>\n",
       "      <th>81</th>\n",
       "      <td>Chinese Aviation Museum</td>\n",
       "      <td>1292278.0</td>\n",
       "      <td>Beijing</td>\n",
       "      <td>China</td>\n",
       "      <td>CN</td>\n",
       "      <td>18960744</td>\n",
       "    </tr>\n",
       "    <tr>\n",
       "      <th>82</th>\n",
       "      <td>Scottish National Gallery</td>\n",
       "      <td>1277230.0</td>\n",
       "      <td>Edinburgh</td>\n",
       "      <td>United Kingdom</td>\n",
       "      <td>GB</td>\n",
       "      <td>514990</td>\n",
       "    </tr>\n",
       "    <tr>\n",
       "      <th>83</th>\n",
       "      <td>Museo Reina Sofía</td>\n",
       "      <td>1253183.0</td>\n",
       "      <td>Madrid</td>\n",
       "      <td>Spain</td>\n",
       "      <td>ES</td>\n",
       "      <td>3255944</td>\n",
       "    </tr>\n",
       "    <tr>\n",
       "      <th>84</th>\n",
       "      <td>Galata Tower</td>\n",
       "      <td>1250000.0</td>\n",
       "      <td>Istanbul</td>\n",
       "      <td>Turkey</td>\n",
       "      <td>TR</td>\n",
       "      <td>15907951</td>\n",
       "    </tr>\n",
       "  </tbody>\n",
       "</table>\n",
       "<p>85 rows × 6 columns</p>\n",
       "</div>"
      ],
      "text/plain": [
       "                                                 Name  Visitors in 2024  \\\n",
       "0                                              Louvre         8700000.0   \n",
       "1                            National Museum of China         6956800.0   \n",
       "2                                     Vatican Museums         6825436.0   \n",
       "3                                      British Museum         6479952.0   \n",
       "4            Natural History Museum, South Kensington         6301972.0   \n",
       "..                                                ...               ...   \n",
       "80  Museum of European and Mediterranean Civilisat...         1300000.0   \n",
       "81                            Chinese Aviation Museum         1292278.0   \n",
       "82                          Scottish National Gallery         1277230.0   \n",
       "83                                  Museo Reina Sofía         1253183.0   \n",
       "84                                       Galata Tower         1250000.0   \n",
       "\n",
       "            City         Country Country Code  Population  \n",
       "0          Paris          France           FR     2138551  \n",
       "1        Beijing           China           CN    18960744  \n",
       "2   Vatican City         Vatican           VA         921  \n",
       "3         London  United Kingdom           GB     8961989  \n",
       "4         London  United Kingdom           GB     8961989  \n",
       "..           ...             ...          ...         ...  \n",
       "80     Marseille          France           FR      870731  \n",
       "81       Beijing           China           CN    18960744  \n",
       "82     Edinburgh  United Kingdom           GB      514990  \n",
       "83        Madrid           Spain           ES     3255944  \n",
       "84      Istanbul          Turkey           TR    15907951  \n",
       "\n",
       "[85 rows x 6 columns]"
      ]
     },
     "execution_count": 56,
     "metadata": {},
     "output_type": "execute_result"
    }
   ],
   "source": [
    "data"
   ]
  },
  {
   "cell_type": "code",
   "execution_count": 50,
   "id": "0e9a2ace",
   "metadata": {},
   "outputs": [],
   "source": [
    "X = data[['Population']]\n",
    "\n",
    "y = data['Visitors in 2024']"
   ]
  },
  {
   "cell_type": "code",
   "execution_count": 51,
   "id": "5456c210",
   "metadata": {},
   "outputs": [
    {
     "data": {
      "text/html": [
       "<style>#sk-container-id-2 {color: black;background-color: white;}#sk-container-id-2 pre{padding: 0;}#sk-container-id-2 div.sk-toggleable {background-color: white;}#sk-container-id-2 label.sk-toggleable__label {cursor: pointer;display: block;width: 100%;margin-bottom: 0;padding: 0.3em;box-sizing: border-box;text-align: center;}#sk-container-id-2 label.sk-toggleable__label-arrow:before {content: \"▸\";float: left;margin-right: 0.25em;color: #696969;}#sk-container-id-2 label.sk-toggleable__label-arrow:hover:before {color: black;}#sk-container-id-2 div.sk-estimator:hover label.sk-toggleable__label-arrow:before {color: black;}#sk-container-id-2 div.sk-toggleable__content {max-height: 0;max-width: 0;overflow: hidden;text-align: left;background-color: #f0f8ff;}#sk-container-id-2 div.sk-toggleable__content pre {margin: 0.2em;color: black;border-radius: 0.25em;background-color: #f0f8ff;}#sk-container-id-2 input.sk-toggleable__control:checked~div.sk-toggleable__content {max-height: 200px;max-width: 100%;overflow: auto;}#sk-container-id-2 input.sk-toggleable__control:checked~label.sk-toggleable__label-arrow:before {content: \"▾\";}#sk-container-id-2 div.sk-estimator input.sk-toggleable__control:checked~label.sk-toggleable__label {background-color: #d4ebff;}#sk-container-id-2 div.sk-label input.sk-toggleable__control:checked~label.sk-toggleable__label {background-color: #d4ebff;}#sk-container-id-2 input.sk-hidden--visually {border: 0;clip: rect(1px 1px 1px 1px);clip: rect(1px, 1px, 1px, 1px);height: 1px;margin: -1px;overflow: hidden;padding: 0;position: absolute;width: 1px;}#sk-container-id-2 div.sk-estimator {font-family: monospace;background-color: #f0f8ff;border: 1px dotted black;border-radius: 0.25em;box-sizing: border-box;margin-bottom: 0.5em;}#sk-container-id-2 div.sk-estimator:hover {background-color: #d4ebff;}#sk-container-id-2 div.sk-parallel-item::after {content: \"\";width: 100%;border-bottom: 1px solid gray;flex-grow: 1;}#sk-container-id-2 div.sk-label:hover label.sk-toggleable__label {background-color: #d4ebff;}#sk-container-id-2 div.sk-serial::before {content: \"\";position: absolute;border-left: 1px solid gray;box-sizing: border-box;top: 0;bottom: 0;left: 50%;z-index: 0;}#sk-container-id-2 div.sk-serial {display: flex;flex-direction: column;align-items: center;background-color: white;padding-right: 0.2em;padding-left: 0.2em;position: relative;}#sk-container-id-2 div.sk-item {position: relative;z-index: 1;}#sk-container-id-2 div.sk-parallel {display: flex;align-items: stretch;justify-content: center;background-color: white;position: relative;}#sk-container-id-2 div.sk-item::before, #sk-container-id-2 div.sk-parallel-item::before {content: \"\";position: absolute;border-left: 1px solid gray;box-sizing: border-box;top: 0;bottom: 0;left: 50%;z-index: -1;}#sk-container-id-2 div.sk-parallel-item {display: flex;flex-direction: column;z-index: 1;position: relative;background-color: white;}#sk-container-id-2 div.sk-parallel-item:first-child::after {align-self: flex-end;width: 50%;}#sk-container-id-2 div.sk-parallel-item:last-child::after {align-self: flex-start;width: 50%;}#sk-container-id-2 div.sk-parallel-item:only-child::after {width: 0;}#sk-container-id-2 div.sk-dashed-wrapped {border: 1px dashed gray;margin: 0 0.4em 0.5em 0.4em;box-sizing: border-box;padding-bottom: 0.4em;background-color: white;}#sk-container-id-2 div.sk-label label {font-family: monospace;font-weight: bold;display: inline-block;line-height: 1.2em;}#sk-container-id-2 div.sk-label-container {text-align: center;}#sk-container-id-2 div.sk-container {/* jupyter's `normalize.less` sets `[hidden] { display: none; }` but bootstrap.min.css set `[hidden] { display: none !important; }` so we also need the `!important` here to be able to override the default hidden behavior on the sphinx rendered scikit-learn.org. See: https://github.com/scikit-learn/scikit-learn/issues/21755 */display: inline-block !important;position: relative;}#sk-container-id-2 div.sk-text-repr-fallback {display: none;}</style><div id=\"sk-container-id-2\" class=\"sk-top-container\"><div class=\"sk-text-repr-fallback\"><pre>LinearRegression()</pre><b>In a Jupyter environment, please rerun this cell to show the HTML representation or trust the notebook. <br />On GitHub, the HTML representation is unable to render, please try loading this page with nbviewer.org.</b></div><div class=\"sk-container\" hidden><div class=\"sk-item\"><div class=\"sk-estimator sk-toggleable\"><input class=\"sk-toggleable__control sk-hidden--visually\" id=\"sk-estimator-id-2\" type=\"checkbox\" checked><label for=\"sk-estimator-id-2\" class=\"sk-toggleable__label sk-toggleable__label-arrow\">LinearRegression</label><div class=\"sk-toggleable__content\"><pre>LinearRegression()</pre></div></div></div></div></div>"
      ],
      "text/plain": [
       "LinearRegression()"
      ]
     },
     "execution_count": 51,
     "metadata": {},
     "output_type": "execute_result"
    }
   ],
   "source": [
    "model = LinearRegression()\n",
    "model.fit(X, y)"
   ]
  },
  {
   "cell_type": "code",
   "execution_count": 52,
   "id": "06f13a6a",
   "metadata": {},
   "outputs": [
    {
     "name": "stdout",
     "output_type": "stream",
     "text": [
      "Coefficient (slope): 0.010524502169073203\n",
      "Intercept: 2694660.1414810745\n"
     ]
    }
   ],
   "source": [
    "print(f\"Coefficient (slope): {model.coef_[0]}\")\n",
    "print(f\"Intercept: {model.intercept_}\")"
   ]
  },
  {
   "cell_type": "code",
   "execution_count": 53,
   "id": "fe51afd3",
   "metadata": {},
   "outputs": [],
   "source": [
    "from sklearn.metrics import r2_score, mean_squared_error\n",
    "import matplotlib.pyplot as plt"
   ]
  },
  {
   "cell_type": "code",
   "execution_count": 54,
   "id": "a2cbcad6",
   "metadata": {},
   "outputs": [
    {
     "name": "stdout",
     "output_type": "stream",
     "text": [
      "Coefficient (slope): 0.010524502169073203\n",
      "Intercept: 2694660.1414810745\n",
      "R²: 0.0029179374389031176\n",
      "RMSE: 1534980.7569868995\n"
     ]
    },
    {
     "data": {
      "image/png": "[encoded data removed]",
      "text/plain": [
       "<Figure size 432x288 with 1 Axes>"
      ]
     },
     "metadata": {
      "needs_background": "light"
     },
     "output_type": "display_data"
    },
    {
     "data": {
      "image/png": "[encoded data removed]",
      "text/plain": [
       "<Figure size 432x288 with 1 Axes>"
      ]
     },
     "metadata": {
      "needs_background": "light"
     },
     "output_type": "display_data"
    }
   ],
   "source": [
    "y_pred = model.predict(X)\n",
    "\n",
    "r2 = r2_score(y, y_pred)\n",
    "mse = mean_squared_error(y, y_pred)\n",
    "rmse = mse ** 0.5\n",
    "\n",
    "print(\"Coefficient (slope):\", model.coef_[0])\n",
    "print(\"Intercept:\", model.intercept_)\n",
    "print(\"R²:\", r2)\n",
    "print(\"RMSE:\", rmse)\n",
    "\n",
    "plt.scatter(X, y, label=\"Actual\", alpha=0.6)\n",
    "plt.plot(X, y_pred, color=\"red\", label=\"Predicted\")\n",
    "plt.xlabel(\"Population\")\n",
    "plt.ylabel(\"Visitors\")\n",
    "plt.legend()\n",
    "plt.show()\n",
    "\n",
    "plt.scatter(X, y - y_pred, alpha=0.6)\n",
    "plt.axhline(0, color=\"red\", linestyle=\"--\")\n",
    "plt.xlabel(\"Population\")\n",
    "plt.ylabel(\"Residuals (Actual - Predicted)\")\n",
    "plt.show()"
   ]
  },
  {
   "cell_type": "code",
   "execution_count": 64,
   "id": "32502f79",
   "metadata": {},
   "outputs": [
    {
     "name": "stdout",
     "output_type": "stream",
     "text": [
      "Simple Linear Regression\n",
      "Coefficient (slope): 0.010525\n",
      "Intercept: 2694660.14\n",
      "R² score: 0.0029\n",
      "\n"
     ]
    }
   ],
   "source": [
    "df = data.dropna(subset=[\"Visitors in 2024\", \"Population\"]).copy()\n",
    "\n",
    "X = df[[\"Population\"]].values\n",
    "y = df[\"Visitors in 2024\"].values\n",
    "\n",
    "lin_reg = LinearRegression()\n",
    "lin_reg.fit(X, y)\n",
    "\n",
    "print(\"Simple Linear Regression\")\n",
    "print(f\"Coefficient (slope): {lin_reg.coef_[0]:.6f}\")\n",
    "print(f\"Intercept: {lin_reg.intercept_:.2f}\")\n",
    "print(f\"R² score: {lin_reg.score(X, y):.4f}\")"
   ]
  },
  {
   "cell_type": "code",
   "execution_count": 65,
   "id": "4f79ae53",
   "metadata": {},
   "outputs": [
    {
     "name": "stdout",
     "output_type": "stream",
     "text": [
      "📊 Log-Log Regression\n",
      "Coefficient (slope): 0.003987\n",
      "Intercept: 14.65\n",
      "R² score: 0.0001\n"
     ]
    }
   ],
   "source": [
    "X_log = np.log1p(df[\"Population\"].values.reshape(-1, 1))\n",
    "y_log = np.log1p(df[\"Visitors in 2024\"].values)\n",
    "\n",
    "log_reg = LinearRegression()\n",
    "log_reg.fit(X_log, y_log)\n",
    "\n",
    "print(\"📊 Log-Log Regression\")\n",
    "print(f\"Coefficient (slope): {log_reg.coef_[0]:.6f}\")\n",
    "print(f\"Intercept: {log_reg.intercept_:.2f}\")\n",
    "print(f\"R² score: {log_reg.score(X_log, y_log):.4f}\")"
   ]
  },
  {
   "cell_type": "code",
   "execution_count": 66,
   "id": "59f47fa1",
   "metadata": {},
   "outputs": [
    {
     "name": "stdout",
     "output_type": "stream",
     "text": [
      "📊 Simple Linear Regression (statsmodels)\n",
      "                            OLS Regression Results                            \n",
      "==============================================================================\n",
      "Dep. Variable:       Visitors in 2024   R-squared:                       0.003\n",
      "Model:                            OLS   Adj. R-squared:                 -0.009\n",
      "Method:                 Least Squares   F-statistic:                    0.2429\n",
      "Date:                Tue, 19 Aug 2025   Prob (F-statistic):              0.623\n",
      "Time:                        16:22:08   Log-Likelihood:                -1331.4\n",
      "No. Observations:                  85   AIC:                             2667.\n",
      "Df Residuals:                      83   BIC:                             2672.\n",
      "Df Model:                           1                                         \n",
      "Covariance Type:            nonrobust                                         \n",
      "==============================================================================\n",
      "                 coef    std err          t      P>|t|      [0.025      0.975]\n",
      "------------------------------------------------------------------------------\n",
      "const       2.695e+06   2.46e+05     10.974      0.000    2.21e+06    3.18e+06\n",
      "Population     0.0105      0.021      0.493      0.623      -0.032       0.053\n",
      "==============================================================================\n",
      "Omnibus:                       31.090   Durbin-Watson:                   0.030\n",
      "Prob(Omnibus):                  0.000   Jarque-Bera (JB):               51.391\n",
      "Skew:                           1.521   Prob(JB):                     6.93e-12\n",
      "Kurtosis:                       5.292   Cond. No.                     1.68e+07\n",
      "==============================================================================\n",
      "\n",
      "Warnings:\n",
      "[1] Standard Errors assume that the covariance matrix of the errors is correctly specified.\n",
      "[2] The condition number is large, 1.68e+07. This might indicate that there are\n",
      "strong multicollinearity or other numerical problems.\n"
     ]
    },
    {
     "name": "stderr",
     "output_type": "stream",
     "text": [
      "/Users/annavaugrante/.pyenv/versions/3.8.12/envs/lewagon/lib/python3.8/site-packages/statsmodels/tsa/tsatools.py:130: FutureWarning: In a future version of pandas all arguments of concat except for the argument 'objs' will be keyword-only\n",
      "  x = pd.concat(x[::order], 1)\n"
     ]
    }
   ],
   "source": [
    "import statsmodels.api as sm\n",
    "\n",
    "df = data.dropna(subset=[\"Visitors in 2024\", \"Population\"]).copy()\n",
    "\n",
    "X = df[\"Population\"]\n",
    "y = df[\"Visitors in 2024\"]\n",
    "\n",
    "X_const = sm.add_constant(X)\n",
    "\n",
    "model_lin = sm.OLS(y, X_const).fit()\n",
    "print(\"📊 Simple Linear Regression (statsmodels)\")\n",
    "print(model_lin.summary())"
   ]
  },
  {
   "cell_type": "code",
   "execution_count": null,
   "id": "9d3012b7",
   "metadata": {},
   "outputs": [],
   "source": []
  }
 ],
 "metadata": {
  "kernelspec": {
   "display_name": "Python 3 (ipykernel)",
   "language": "python",
   "name": "python3"
  },
  "language_info": {
   "codemirror_mode": {
    "name": "ipython",
    "version": 3
   },
   "file_extension": ".py",
   "mimetype": "text/x-python",
   "name": "python",
   "nbconvert_exporter": "python",
   "pygments_lexer": "ipython3",
   "version": "3.8.12"
  },
  "toc": {
   "base_numbering": 1,
   "nav_menu": {},
   "number_sections": true,
   "sideBar": true,
   "skip_h1_title": false,
   "title_cell": "Table of Contents",
   "title_sidebar": "Contents",
   "toc_cell": false,
   "toc_position": {},
   "toc_section_display": true,
   "toc_window_display": false
  }
 },
 "nbformat": 4,
 "nbformat_minor": 5
}
